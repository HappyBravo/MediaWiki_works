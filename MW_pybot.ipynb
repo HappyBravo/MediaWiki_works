{
 "cells": [
  {
   "attachments": {},
   "cell_type": "markdown",
   "metadata": {},
   "source": [
    "# IMPORTING LIBRARIES"
   ]
  },
  {
   "cell_type": "code",
   "execution_count": 1,
   "metadata": {},
   "outputs": [],
   "source": [
    "import os\n",
    "from pathlib import Path\n",
    "import pywikibot\n",
    "from OCR_worker.pdftotext import convert_pdf_to_text, extract_text # IMPORTING PYTHON SCRIPTs WHICH ADDS A TEXT LAYER\n",
    "from IPython.display import clear_output"
   ]
  },
  {
   "attachments": {},
   "cell_type": "markdown",
   "metadata": {},
   "source": [
    "# DEFINING FUNCTIONS"
   ]
  },
  {
   "cell_type": "code",
   "execution_count": 16,
   "metadata": {},
   "outputs": [],
   "source": [
    "def check_MIME_pdf(file_name):\n",
    "    '''\n",
    "    FOR HANDLING ERROR FOR FILENAMES LIKE  \"OO_No._45_dt._09.05.2023\"  \n",
    "    GIVES ERROR >>> verification-error: File extension \".2023\" does not match the detected MIME type of the file (application/pdf).\n",
    "    '''\n",
    "    _file_name = ''\n",
    "    isChanged = False\n",
    "\n",
    "    _file_name = file_name[:-4]  # EXCLUDING '.pdf' EXTENSION \n",
    "    _file_name = _file_name.replace('.', '')\n",
    "    _file_name = _file_name+'.pdf'\n",
    "    isChanged = _file_name != file_name\n",
    "\n",
    "    return (_file_name, isChanged)\n",
    "\n",
    "\n",
    "def upload_pdf_files(file_path, wiki_url, username, addSummary = False, summary=' '):\n",
    "    '''\n",
    "    UPLOADS ALL PDF FILES FROM A DIRECTORY\n",
    "    TO MEDIAWIKI WITH AN OCR TEXT LAYER\n",
    "\n",
    "    IF addSummary is True,\n",
    "        if USER PROVIDES SOME SUMMARY THEN IT ADDS THAT IN THE COMMENT SECION,\n",
    "        ELSE, IT SCRAPS THE TEXT AND ADDS THE TEXT IN THE COMMENT SECTION\n",
    "    '''\n",
    "\n",
    "    site = pywikibot.Site(user=username, code=\"en\", fam=\"mediawiki\")\n",
    "    site.login()\n",
    "\n",
    "    for file_name in os.listdir(file_path):\n",
    "        if file_name.endswith('.pdf'):\n",
    "            (new_file_name, isChanged) = check_MIME_pdf(file_name)\n",
    "            \n",
    "            print(\"processing \", {file_name})\n",
    "            _file_path = file_path\n",
    "            ffile_path = os.path.join(file_path, file_name)\n",
    "\n",
    "            if isChanged:\n",
    "                file_name = new_file_name\n",
    "\n",
    "            output_file = \"new/ocr_\"+file_name     # SAVES FILE IS new DIRECTORY\n",
    "            output_file_path = os.path.join(_file_path, output_file)\n",
    "            \n",
    "            convert_pdf_to_text(pdf_file=ffile_path, output_file=output_file_path)\n",
    "\n",
    "            clear_output(wait = True)\n",
    "\n",
    "            print(\"Text Layer Added\")\n",
    "\n",
    "            page_name = file_name[:-4]  # Remove the '.pdf' extension from the file name\n",
    "\n",
    "            \n",
    "            if addSummary:\n",
    "                if len(summary) < 2:\n",
    "                    textt = extract_text(output_file_path)\n",
    "                    summary = \" \\n \".join([textt[page] for page in range(len(textt))])\n",
    "                    \n",
    "                print(summary)\n",
    "\n",
    "            page = pywikibot.FilePage(site, page_name)\n",
    "            \n",
    "            try:\n",
    "                page.upload(output_file_path, ignore_warnings=True, comment=summary)\n",
    "            except Exception as e:\n",
    "                print(e)\n",
    "    site.logout()\n"
   ]
  },
  {
   "attachments": {},
   "cell_type": "markdown",
   "metadata": {},
   "source": [
    "# REQUIRED INFO FOR LOGIN AND FILE PATH"
   ]
  },
  {
   "cell_type": "code",
   "execution_count": 7,
   "metadata": {},
   "outputs": [],
   "source": [
    "# Provide the necessary information here\n",
    "file_path = './PDFs'  # Path to the folder containing PDF files\n",
    "wiki_url = 'http://localhost'  # URL of your local MediaWiki server\n",
    "username = 'YOUR USERNAME'  # Your MediaWiki username\n",
    "# PASSWORD IS ASKED LATER..."
   ]
  },
  {
   "cell_type": "code",
   "execution_count": 21,
   "metadata": {},
   "outputs": [],
   "source": [
    "# summary_buffer = \"TESTINF SUMMARY. SOme random text for summary.\"\n",
    "# add_summ = True\n",
    "\n",
    "summary_buffer = ''\n",
    "add_summ = False\n"
   ]
  },
  {
   "attachments": {},
   "cell_type": "markdown",
   "metadata": {},
   "source": [
    "# UPLOAD"
   ]
  },
  {
   "cell_type": "code",
   "execution_count": null,
   "metadata": {},
   "outputs": [],
   "source": [
    "\n",
    "upload_pdf_files(file_path, wiki_url, username, addSummary = add_summ, summary = summary_buffer)"
   ]
  },
  {
   "cell_type": "code",
   "execution_count": null,
   "metadata": {},
   "outputs": [],
   "source": []
  }
 ],
 "metadata": {
  "kernelspec": {
   "display_name": "Python 3",
   "language": "python",
   "name": "python3"
  },
  "language_info": {
   "codemirror_mode": {
    "name": "ipython",
    "version": 3
   },
   "file_extension": ".py",
   "mimetype": "text/x-python",
   "name": "python",
   "nbconvert_exporter": "python",
   "pygments_lexer": "ipython3",
   "version": "3.10.6"
  },
  "orig_nbformat": 4
 },
 "nbformat": 4,
 "nbformat_minor": 2
}
