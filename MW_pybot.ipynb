{
 "cells": [
  {
   "cell_type": "code",
   "execution_count": 1,
   "metadata": {},
   "outputs": [],
   "source": [
    "import os\n",
    "\n",
    "import pywikibot as pwb\n",
    "# import pywikibot.pywikibot as pwb # IMPORTING pywikibot\n",
    "from PDF_module.pdftotext import convert_pdf_to_text # IMPORTING MY PYTHON SCRIPT WHICH ADDS A TEXT LAYER"
   ]
  },
  {
   "cell_type": "code",
   "execution_count": 4,
   "metadata": {},
   "outputs": [
    {
     "data": {
      "text/plain": [
       "<module 'pywikibot.login' from '/home/happy/.local/lib/python3.10/site-packages/pywikibot/login.py'>"
      ]
     },
     "execution_count": 4,
     "metadata": {},
     "output_type": "execute_result"
    }
   ],
   "source": [
    "pwb.login"
   ]
  },
  {
   "cell_type": "code",
   "execution_count": 4,
   "metadata": {},
   "outputs": [],
   "source": [
    "# def user_login(_wiki_url, _username, _password):\n",
    "#     _site = pywikibot.Site(site = _wiki_url, use)\n",
    "#     _site.login(user=_username, password=_password)\n",
    "#     return _site\n",
    "# from urllib.parse import urlparse\n",
    "\n",
    "# def user_login(wiki_url, username, password):\n",
    "def user_login():\n",
    "    # url_parts = urlparse(wiki_url)\n",
    "    # print(url_parts)\n",
    "    # input()\n",
    "    # family_name = 'localhost'\n",
    "    # site = pywikibot.Site(url=url_parts.scheme + '://' + url_parts.netloc, fam=family_name)\n",
    "    # site = pwb.Site(url = wiki_url, fam=family_name)\n",
    "    # pywikibot.config.password_file = password\n",
    "    _site = pwb.login()\n",
    "    return _site\n",
    "\n",
    "def user_logout(_site):\n",
    "    _site.logout()\n"
   ]
  },
  {
   "cell_type": "code",
   "execution_count": 6,
   "metadata": {},
   "outputs": [],
   "source": [
    "def upload_pdf_files(file_path, wiki_site):\n",
    "    if not wiki_site.logged_in():\n",
    "        raise Exception(\"User is not logged in.\")\n",
    "    \n",
    "    for file_name in os.listdir(file_path):\n",
    "        if file_name.endswith('.pdf'):\n",
    "            file_path = os.path.join(file_path, file_name)\n",
    "            page_name = file_name[:-4]  # Remove the '.pdf' extension from the file name\n",
    "\n",
    "            page = pwb.FilePage(wiki_site, page_name)\n",
    "            page.upload(file_path, ignore_warnings=True)\n",
    "\n"
   ]
  },
  {
   "cell_type": "code",
   "execution_count": 14,
   "metadata": {},
   "outputs": [],
   "source": [
    "# Provide the necessary information here\n",
    "file_path = './PDFs/'  # Path to the folder containing PDF files\n",
    "wiki_url = 'http://localhost/'  # URL of your local MediaWiki server\n",
    "username = 'mediawiki_admin'  # Your MediaWiki username\n",
    "password = 'mediawiki@123'  # Your MediaWiki password\n"
   ]
  },
  {
   "cell_type": "code",
   "execution_count": 5,
   "metadata": {},
   "outputs": [
    {
     "ename": "TypeError",
     "evalue": "'module' object is not callable",
     "output_type": "error",
     "traceback": [
      "\u001b[0;31m---------------------------------------------------------------------------\u001b[0m",
      "\u001b[0;31mTypeError\u001b[0m                                 Traceback (most recent call last)",
      "Cell \u001b[0;32mIn[5], line 2\u001b[0m\n\u001b[1;32m      1\u001b[0m \u001b[39m# site = user_login(wiki_url, username, password)\u001b[39;00m\n\u001b[0;32m----> 2\u001b[0m site \u001b[39m=\u001b[39m user_login()\n",
      "Cell \u001b[0;32mIn[4], line 16\u001b[0m, in \u001b[0;36muser_login\u001b[0;34m()\u001b[0m\n\u001b[1;32m      8\u001b[0m \u001b[39mdef\u001b[39;00m \u001b[39muser_login\u001b[39m():\n\u001b[1;32m      9\u001b[0m     \u001b[39m# url_parts = urlparse(wiki_url)\u001b[39;00m\n\u001b[1;32m     10\u001b[0m     \u001b[39m# print(url_parts)\u001b[39;00m\n\u001b[0;32m   (...)\u001b[0m\n\u001b[1;32m     14\u001b[0m     \u001b[39m# site = pwb.Site(url = wiki_url, fam=family_name)\u001b[39;00m\n\u001b[1;32m     15\u001b[0m     \u001b[39m# pywikibot.config.password_file = password\u001b[39;00m\n\u001b[0;32m---> 16\u001b[0m     _site \u001b[39m=\u001b[39m pwb\u001b[39m.\u001b[39;49mlogin()\n\u001b[1;32m     17\u001b[0m     \u001b[39mreturn\u001b[39;00m _site\n",
      "\u001b[0;31mTypeError\u001b[0m: 'module' object is not callable"
     ]
    }
   ],
   "source": [
    "# site = user_login(wiki_url, username, password)\n",
    "site = user_login()"
   ]
  },
  {
   "cell_type": "code",
   "execution_count": 79,
   "metadata": {},
   "outputs": [
    {
     "ename": "NameError",
     "evalue": "name 'site' is not defined",
     "output_type": "error",
     "traceback": [
      "\u001b[0;31m---------------------------------------------------------------------------\u001b[0m",
      "\u001b[0;31mNameError\u001b[0m                                 Traceback (most recent call last)",
      "Cell \u001b[0;32mIn[79], line 1\u001b[0m\n\u001b[0;32m----> 1\u001b[0m upload_pdf_files(file_path, site)\n",
      "\u001b[0;31mNameError\u001b[0m: name 'site' is not defined"
     ]
    }
   ],
   "source": [
    "upload_pdf_files(file_path, site)"
   ]
  },
  {
   "cell_type": "code",
   "execution_count": 8,
   "metadata": {},
   "outputs": [
    {
     "ename": "TypeError",
     "evalue": "upload_pdf_files() missing 2 required positional arguments: 'file_path' and 'wiki_site'",
     "output_type": "error",
     "traceback": [
      "\u001b[0;31m---------------------------------------------------------------------------\u001b[0m",
      "\u001b[0;31mTypeError\u001b[0m                                 Traceback (most recent call last)",
      "Cell \u001b[0;32mIn[8], line 1\u001b[0m\n\u001b[0;32m----> 1\u001b[0m upload_pdf_files()\n",
      "\u001b[0;31mTypeError\u001b[0m: upload_pdf_files() missing 2 required positional arguments: 'file_path' and 'wiki_site'"
     ]
    }
   ],
   "source": [
    "upload_pdf_files()"
   ]
  },
  {
   "cell_type": "code",
   "execution_count": 5,
   "metadata": {},
   "outputs": [],
   "source": [
    "site = pwb.Site(code=\"en\", fam=\"mediawiki\")"
   ]
  },
  {
   "cell_type": "code",
   "execution_count": 4,
   "metadata": {},
   "outputs": [
    {
     "data": {
      "text/plain": [
       "APISite(\"en\", \"mediawiki\")"
      ]
     },
     "execution_count": 4,
     "metadata": {},
     "output_type": "execute_result"
    }
   ],
   "source": [
    "site"
   ]
  },
  {
   "cell_type": "code",
   "execution_count": 15,
   "metadata": {},
   "outputs": [],
   "source": [
    "site.login()"
   ]
  },
  {
   "cell_type": "code",
   "execution_count": 13,
   "metadata": {},
   "outputs": [],
   "source": [
    "site.logout()"
   ]
  },
  {
   "cell_type": "code",
   "execution_count": 27,
   "metadata": {},
   "outputs": [
    {
     "ename": "AttributeError",
     "evalue": "'str' object has no attribute 'text'",
     "output_type": "error",
     "traceback": [
      "\u001b[0;31m---------------------------------------------------------------------------\u001b[0m",
      "\u001b[0;31mAttributeError\u001b[0m                            Traceback (most recent call last)",
      "Cell \u001b[0;32mIn[27], line 1\u001b[0m\n\u001b[0;32m----> 1\u001b[0m site\u001b[39m.\u001b[39;49mupload(filepage\u001b[39m=\u001b[39;49m\u001b[39m\"\u001b[39;49m\u001b[39m./PDFs\u001b[39;49m\u001b[39m\"\u001b[39;49m,)\n",
      "File \u001b[0;32m~/.local/lib/python3.10/site-packages/pywikibot/site/_decorators.py:92\u001b[0m, in \u001b[0;36mneed_right.<locals>.decorator.<locals>.callee\u001b[0;34m(self, *args, **kwargs)\u001b[0m\n\u001b[1;32m     88\u001b[0m \u001b[39melif\u001b[39;00m right \u001b[39mis\u001b[39;00m \u001b[39mnot\u001b[39;00m \u001b[39mNone\u001b[39;00m \u001b[39mand\u001b[39;00m \u001b[39mnot\u001b[39;00m \u001b[39mself\u001b[39m\u001b[39m.\u001b[39mhas_right(right):\n\u001b[1;32m     89\u001b[0m     \u001b[39mraise\u001b[39;00m UserRightsError(\u001b[39m'\u001b[39m\u001b[39mUser \u001b[39m\u001b[39m\"\u001b[39m\u001b[39m{}\u001b[39;00m\u001b[39m\"\u001b[39m\u001b[39m does not have required \u001b[39m\u001b[39m'\u001b[39m\n\u001b[1;32m     90\u001b[0m                           \u001b[39m'\u001b[39m\u001b[39muser right \u001b[39m\u001b[39m\"\u001b[39m\u001b[39m{}\u001b[39;00m\u001b[39m\"\u001b[39m\u001b[39m'\u001b[39m\n\u001b[1;32m     91\u001b[0m                           \u001b[39m.\u001b[39mformat(\u001b[39mself\u001b[39m\u001b[39m.\u001b[39muser(), right))\n\u001b[0;32m---> 92\u001b[0m \u001b[39mreturn\u001b[39;00m fn(\u001b[39mself\u001b[39;49m, \u001b[39m*\u001b[39;49margs, \u001b[39m*\u001b[39;49m\u001b[39m*\u001b[39;49mkwargs)\n",
      "File \u001b[0;32m~/.local/lib/python3.10/site-packages/pywikibot/site/_apisite.py:2853\u001b[0m, in \u001b[0;36mAPISite.upload\u001b[0;34m(self, filepage, **kwargs)\u001b[0m\n\u001b[1;32m   2849\u001b[0m     pywikibot\u001b[39m.\u001b[39merror(\n\u001b[1;32m   2850\u001b[0m         \u001b[39mf\u001b[39m\u001b[39m'\u001b[39m\u001b[39mUpload error: Local file uploads are disabled on \u001b[39m\u001b[39m{\u001b[39;00m\u001b[39mself\u001b[39m\u001b[39m}\u001b[39;00m\u001b[39m.\u001b[39m\u001b[39m'\u001b[39m)\n\u001b[1;32m   2851\u001b[0m     \u001b[39mreturn\u001b[39;00m \u001b[39mFalse\u001b[39;00m\n\u001b[0;32m-> 2853\u001b[0m \u001b[39mreturn\u001b[39;00m Uploader(\u001b[39mself\u001b[39;49m, filepage, \u001b[39m*\u001b[39;49m\u001b[39m*\u001b[39;49mkwargs)\u001b[39m.\u001b[39;49mupload()\n",
      "File \u001b[0;32m~/.local/lib/python3.10/site-packages/pywikibot/site/_upload.py:123\u001b[0m, in \u001b[0;36mUploader.upload\u001b[0;34m(self)\u001b[0m\n\u001b[1;32m    118\u001b[0m \u001b[39m\u001b[39m\u001b[39m\"\"\"Check for required parameters to upload and run the job.\u001b[39;00m\n\u001b[1;32m    119\u001b[0m \n\u001b[1;32m    120\u001b[0m \u001b[39m:return: Whether the upload was successful.\u001b[39;00m\n\u001b[1;32m    121\u001b[0m \u001b[39m\"\"\"\u001b[39;00m\n\u001b[1;32m    122\u001b[0m \u001b[39mif\u001b[39;00m \u001b[39mself\u001b[39m\u001b[39m.\u001b[39mcomment \u001b[39mis\u001b[39;00m \u001b[39mNone\u001b[39;00m:\n\u001b[0;32m--> 123\u001b[0m     \u001b[39mself\u001b[39m\u001b[39m.\u001b[39mcomment \u001b[39m=\u001b[39m \u001b[39mself\u001b[39;49m\u001b[39m.\u001b[39;49mfilepage\u001b[39m.\u001b[39;49mtext\n\u001b[1;32m    124\u001b[0m \u001b[39mif\u001b[39;00m \u001b[39mnot\u001b[39;00m \u001b[39mself\u001b[39m\u001b[39m.\u001b[39mcomment:\n\u001b[1;32m    125\u001b[0m     \u001b[39mraise\u001b[39;00m \u001b[39mValueError\u001b[39;00m(\u001b[39m'\u001b[39m\u001b[39mAPISite.upload: cannot upload file without \u001b[39m\u001b[39m'\u001b[39m\n\u001b[1;32m    126\u001b[0m                      \u001b[39m'\u001b[39m\u001b[39ma summary/description.\u001b[39m\u001b[39m'\u001b[39m)\n",
      "\u001b[0;31mAttributeError\u001b[0m: 'str' object has no attribute 'text'"
     ]
    }
   ],
   "source": [
    "site.upload(filepage=\"./PDFs\",)"
   ]
  },
  {
   "cell_type": "code",
   "execution_count": 1,
   "metadata": {},
   "outputs": [],
   "source": [
    "from IPython.display import clear_output"
   ]
  },
  {
   "cell_type": "code",
   "execution_count": 2,
   "metadata": {},
   "outputs": [
    {
     "name": "stderr",
     "output_type": "stream",
     "text": [
      "WARNING: API warning (query): Unrecognized value for parameter \"prop\": proofread\n",
      "Sleeping for 19.5 seconds, 2023-07-05 20:55:01\n"
     ]
    },
    {
     "name": "stdout",
     "output_type": "stream",
     "text": [
      "Text Layer Added\n",
      "01/07/23 pdf1.txt 1\n",
      "ﬁle:///home/happy/Desktop/pdf1.txttesting\tpdf\tfile\tupload\tfrom\tMWbot\n"
     ]
    },
    {
     "name": "stderr",
     "output_type": "stream",
     "text": [
      "Upload successful.\n"
     ]
    }
   ],
   "source": [
    "import os\n",
    "from pathlib import Path\n",
    "import pywikibot\n",
    "from PDF_module.pdftotext import convert_pdf_to_text, extract_text # IMPORTING MY PYTHON SCRIPT WHICH ADDS A TEXT LAYER\n",
    "\n",
    "\n",
    "\n",
    "def upload_pdf_files(file_path, wiki_url, username, password):\n",
    "    site = pywikibot.Site(user=username, code=\"en\", fam=\"mediawiki\")\n",
    "    site.login()\n",
    "\n",
    "    for file_name in os.listdir(file_path):\n",
    "        if file_name.endswith('.pdf'):\n",
    "            print(\"processing \", {file_name})\n",
    "            _file_path = file_path\n",
    "            ffile_path = os.path.join(file_path, file_name)\n",
    "\n",
    "            output_file = \"new/ocr_\"+file_name\n",
    "            output_file_path = os.path.join(_file_path, output_file)\n",
    "            \n",
    "            convert_pdf_to_text(pdf_file=ffile_path, output_file=output_file_path)\n",
    "\n",
    "            clear_output(wait = True)\n",
    "\n",
    "            print(\"Text Layer Added\")\n",
    "\n",
    "            page_name = output_file[4:-4]  # Remove the '.pdf' extension from the file name\n",
    "\n",
    "            # summary = \"Uploaded PDF file: {}\".format(page_name)  # Sample summary\n",
    "            textt = extract_text(output_file_path)\n",
    "            summary = \"\\n\".join([textt[page] for page in range(len(textt))])\n",
    "            \n",
    "            print(summary)\n",
    "\n",
    "            page = pywikibot.FilePage(site, page_name)\n",
    "            \n",
    "            try:\n",
    "                page.upload(output_file_path, ignore_warnings=True, comment=summary)\n",
    "            except Exception as e:\n",
    "                print(e)\n",
    "\n",
    "\n",
    "# Provide the necessary information here\n",
    "file_path = './PDFs'  # Path to the folder containing PDF files\n",
    "wiki_url = 'http://localhost'  # URL of your local MediaWiki server\n",
    "username = 'mediawiki_admin'  # Your MediaWiki username\n",
    "password = 'mediawiki@123'  # Your MediaWiki password\n",
    "\n",
    "upload_pdf_files(file_path, wiki_url, username, password)\n"
   ]
  },
  {
   "cell_type": "code",
   "execution_count": 3,
   "metadata": {},
   "outputs": [
    {
     "ename": "NameError",
     "evalue": "name 'site' is not defined",
     "output_type": "error",
     "traceback": [
      "\u001b[0;31m---------------------------------------------------------------------------\u001b[0m",
      "\u001b[0;31mNameError\u001b[0m                                 Traceback (most recent call last)",
      "Cell \u001b[0;32mIn[3], line 1\u001b[0m\n\u001b[0;32m----> 1\u001b[0m site\u001b[39m.\u001b[39mlogout()\n",
      "\u001b[0;31mNameError\u001b[0m: name 'site' is not defined"
     ]
    }
   ],
   "source": [
    "site.logout()"
   ]
  },
  {
   "cell_type": "code",
   "execution_count": null,
   "metadata": {},
   "outputs": [],
   "source": []
  }
 ],
 "metadata": {
  "kernelspec": {
   "display_name": "Python 3",
   "language": "python",
   "name": "python3"
  },
  "language_info": {
   "codemirror_mode": {
    "name": "ipython",
    "version": 3
   },
   "file_extension": ".py",
   "mimetype": "text/x-python",
   "name": "python",
   "nbconvert_exporter": "python",
   "pygments_lexer": "ipython3",
   "version": "3.10.6"
  },
  "orig_nbformat": 4
 },
 "nbformat": 4,
 "nbformat_minor": 2
}
